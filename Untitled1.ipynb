{
  "nbformat": 4,
  "nbformat_minor": 0,
  "metadata": {
    "colab": {
      "name": "Untitled1.ipynb",
      "provenance": [],
      "collapsed_sections": [],
      "authorship_tag": "ABX9TyNij+v2TyT2m+nDT6uBNRPD",
      "include_colab_link": true
    },
    "kernelspec": {
      "name": "python3",
      "display_name": "Python 3"
    },
    "language_info": {
      "name": "python"
    }
  },
  "cells": [
    {
      "cell_type": "markdown",
      "metadata": {
        "id": "view-in-github",
        "colab_type": "text"
      },
      "source": [
        "<a href=\"https://colab.research.google.com/github/roachcoach/Anindita-Banerjee/blob/main/Untitled1.ipynb\" target=\"_parent\"><img src=\"https://colab.research.google.com/assets/colab-badge.svg\" alt=\"Open In Colab\"/></a>"
      ]
    },
    {
      "cell_type": "code",
      "execution_count": null,
      "metadata": {
        "colab": {
          "base_uri": "https://localhost:8080/"
        },
        "id": "97DSKxG4QXBM",
        "outputId": "7c70c8da-4618-41b6-f403-d9acce2ec9a6"
      },
      "outputs": [
        {
          "output_type": "stream",
          "name": "stdout",
          "text": [
            "0    223.40\n",
            "1    124.60\n",
            "2    543.70\n",
            "3    928.50\n",
            "4    908.45\n",
            "dtype: float64\n"
          ]
        }
      ],
      "source": [
        "#ACCESSING DATA\n",
        "import pandas as pd\n",
        "prices=[223.4, 124.6, 543.7, 928.5, 908.45]\n",
        "s= pd.Series(prices)\n",
        "print(s)\n",
        "\n"
      ]
    },
    {
      "cell_type": "markdown",
      "source": [
        ""
      ],
      "metadata": {
        "id": "2lB5KtHURLXE"
      }
    },
    {
      "cell_type": "code",
      "source": [
        "#exercise 1\n",
        "x= (4, 5, 2, 1)\n",
        "s= pd.series(x)\n",
        "print(s[3])"
      ],
      "metadata": {
        "colab": {
          "base_uri": "https://localhost:8080/",
          "height": 339
        },
        "id": "WHgAwAyZRMEg",
        "outputId": "2a6dc411-bb21-4ed6-a584-9915657f0b9c"
      },
      "execution_count": null,
      "outputs": [
        {
          "output_type": "error",
          "ename": "AttributeError",
          "evalue": "ignored",
          "traceback": [
            "\u001b[0;31m---------------------------------------------------------------------------\u001b[0m",
            "\u001b[0;31mAttributeError\u001b[0m                            Traceback (most recent call last)",
            "\u001b[0;32m<ipython-input-3-2784354871d9>\u001b[0m in \u001b[0;36m<module>\u001b[0;34m()\u001b[0m\n\u001b[1;32m      1\u001b[0m \u001b[0;31m#exercise 1\u001b[0m\u001b[0;34m\u001b[0m\u001b[0;34m\u001b[0m\u001b[0;34m\u001b[0m\u001b[0m\n\u001b[1;32m      2\u001b[0m \u001b[0mx\u001b[0m\u001b[0;34m=\u001b[0m \u001b[0;34m(\u001b[0m\u001b[0;36m4\u001b[0m\u001b[0;34m,\u001b[0m \u001b[0;36m5\u001b[0m\u001b[0;34m,\u001b[0m \u001b[0;36m2\u001b[0m\u001b[0;34m,\u001b[0m \u001b[0;36m1\u001b[0m\u001b[0;34m)\u001b[0m\u001b[0;34m\u001b[0m\u001b[0;34m\u001b[0m\u001b[0m\n\u001b[0;32m----> 3\u001b[0;31m \u001b[0ms\u001b[0m\u001b[0;34m=\u001b[0m \u001b[0mpd\u001b[0m\u001b[0;34m.\u001b[0m\u001b[0mseries\u001b[0m\u001b[0;34m(\u001b[0m\u001b[0mx\u001b[0m\u001b[0;34m)\u001b[0m\u001b[0;34m\u001b[0m\u001b[0;34m\u001b[0m\u001b[0m\n\u001b[0m\u001b[1;32m      4\u001b[0m \u001b[0mprint\u001b[0m\u001b[0;34m(\u001b[0m\u001b[0ms\u001b[0m\u001b[0;34m[\u001b[0m\u001b[0;36m3\u001b[0m\u001b[0;34m]\u001b[0m\u001b[0;34m)\u001b[0m\u001b[0;34m\u001b[0m\u001b[0;34m\u001b[0m\u001b[0m\n",
            "\u001b[0;32m/usr/local/lib/python3.7/dist-packages/pandas/__init__.py\u001b[0m in \u001b[0;36m__getattr__\u001b[0;34m(name)\u001b[0m\n\u001b[1;32m    242\u001b[0m         \u001b[0;32mreturn\u001b[0m \u001b[0m_SparseArray\u001b[0m\u001b[0;34m\u001b[0m\u001b[0;34m\u001b[0m\u001b[0m\n\u001b[1;32m    243\u001b[0m \u001b[0;34m\u001b[0m\u001b[0m\n\u001b[0;32m--> 244\u001b[0;31m     \u001b[0;32mraise\u001b[0m \u001b[0mAttributeError\u001b[0m\u001b[0;34m(\u001b[0m\u001b[0;34mf\"module 'pandas' has no attribute '{name}'\"\u001b[0m\u001b[0;34m)\u001b[0m\u001b[0;34m\u001b[0m\u001b[0;34m\u001b[0m\u001b[0m\n\u001b[0m\u001b[1;32m    245\u001b[0m \u001b[0;34m\u001b[0m\u001b[0m\n\u001b[1;32m    246\u001b[0m \u001b[0;34m\u001b[0m\u001b[0m\n",
            "\u001b[0;31mAttributeError\u001b[0m: module 'pandas' has no attribute 'series'"
          ]
        }
      ]
    },
    {
      "cell_type": "markdown",
      "source": [
        ""
      ],
      "metadata": {
        "id": "a_ZqTQI1TzWL"
      }
    },
    {
      "cell_type": "code",
      "source": [
        ""
      ],
      "metadata": {
        "id": "pN6K5bh_VhPz"
      },
      "execution_count": null,
      "outputs": []
    },
    {
      "cell_type": "code",
      "source": [
        ""
      ],
      "metadata": {
        "id": "SuLvagqWTz1S"
      },
      "execution_count": null,
      "outputs": []
    },
    {
      "cell_type": "code",
      "source": [
        "data= {'date':['2021-6-10', '2021-6-11', '2021-06-12', '2021-6-13'], \n",
        "       'prices': [42.8, 102.3, 240.38, 80.9]}\n",
        "df= pd.DataFrame(data)\n",
        "print(df)"
      ],
      "metadata": {
        "colab": {
          "base_uri": "https://localhost:8080/"
        },
        "id": "LfFmJW61Tz9D",
        "outputId": "4c1e2f7c-8497-416a-a613-44080b29cc10"
      },
      "execution_count": null,
      "outputs": [
        {
          "output_type": "stream",
          "name": "stdout",
          "text": [
            "         date  prices\n",
            "0   2021-6-10   42.80\n",
            "1   2021-6-11  102.30\n",
            "2  2021-06-12  240.38\n",
            "3   2021-6-13   80.90\n"
          ]
        }
      ]
    },
    {
      "cell_type": "markdown",
      "source": [
        ""
      ],
      "metadata": {
        "id": "bRM6EdGoZj_k"
      }
    },
    {
      "cell_type": "code",
      "source": [
        "data= pd.read_html('https://en.wikipedia.org/wiki/List_of_S%26P_500_companies')\n",
        "df= data[0]\n",
        "print(df)"
      ],
      "metadata": {
        "colab": {
          "base_uri": "https://localhost:8080/"
        },
        "id": "hkNFDEkXZkTc",
        "outputId": "fa1235dd-38c3-4fba-d214-63344622c298"
      },
      "execution_count": null,
      "outputs": [
        {
          "output_type": "stream",
          "name": "stdout",
          "text": [
            "    Symbol            Security  ...      CIK      Founded\n",
            "0      MMM                  3M  ...    66740         1902\n",
            "1      AOS         A. O. Smith  ...    91142         1916\n",
            "2      ABT              Abbott  ...     1800         1888\n",
            "3     ABBV              AbbVie  ...  1551152  2013 (1888)\n",
            "4     ABMD             Abiomed  ...   815094         1981\n",
            "..     ...                 ...  ...      ...          ...\n",
            "500    YUM         Yum! Brands  ...  1041061         1997\n",
            "501   ZBRA  Zebra Technologies  ...   877212         1969\n",
            "502    ZBH       Zimmer Biomet  ...  1136869         1927\n",
            "503   ZION       Zions Bancorp  ...   109380         1873\n",
            "504    ZTS              Zoetis  ...  1555280         1952\n",
            "\n",
            "[505 rows x 9 columns]\n"
          ]
        }
      ]
    },
    {
      "cell_type": "markdown",
      "source": [
        "data= pd.read_html('https://en.wikipedia.org/wiki/List_of_S%26P_500_companies')\n",
        "df= data[0]\n",
        "df= [df['Symbol', 'Security']]\n",
        "# print(df)"
      ],
      "metadata": {
        "id": "yG4l09hjVehg"
      }
    },
    {
      "cell_type": "code",
      "source": [
        "data= pd.read_html('https://en.wikipedia.org/wiki/List_of_S%26P_500_companies')\n",
        "df= data[0]\n",
        "print(df)\n"
      ],
      "metadata": {
        "colab": {
          "base_uri": "https://localhost:8080/"
        },
        "id": "uXQhmtRbas4B",
        "outputId": "cd083b3f-3c2d-4598-a25b-82aaf6b7a5a0"
      },
      "execution_count": null,
      "outputs": [
        {
          "output_type": "stream",
          "name": "stdout",
          "text": [
            "    Symbol            Security  ...      CIK      Founded\n",
            "0      MMM                  3M  ...    66740         1902\n",
            "1      AOS         A. O. Smith  ...    91142         1916\n",
            "2      ABT              Abbott  ...     1800         1888\n",
            "3     ABBV              AbbVie  ...  1551152  2013 (1888)\n",
            "4     ABMD             Abiomed  ...   815094         1981\n",
            "..     ...                 ...  ...      ...          ...\n",
            "500    YUM         Yum! Brands  ...  1041061         1997\n",
            "501   ZBRA  Zebra Technologies  ...   877212         1969\n",
            "502    ZBH       Zimmer Biomet  ...  1136869         1927\n",
            "503   ZION       Zions Bancorp  ...   109380         1873\n",
            "504    ZTS              Zoetis  ...  1555280         1952\n",
            "\n",
            "[505 rows x 9 columns]\n"
          ]
        }
      ]
    },
    {
      "cell_type": "markdown",
      "source": [
        ""
      ],
      "metadata": {
        "id": "5V2pZPqba__9"
      }
    },
    {
      "cell_type": "code",
      "source": [
        "data= pd.read_html('https://en.wikipedia.org/wiki/List_of_S%26P_500_companies')\n",
        "df= data[0]\n",
        "df= df[['Symbol', 'Security']]\n",
        "print(df)\n",
        "df= df[df['Security']=='Apple']\n",
        "print(df)"
      ],
      "metadata": {
        "colab": {
          "base_uri": "https://localhost:8080/"
        },
        "id": "HVDw3Z66bAsT",
        "outputId": "0512b691-a247-4963-a50d-3f5952a4f6f8"
      },
      "execution_count": null,
      "outputs": [
        {
          "output_type": "stream",
          "name": "stdout",
          "text": [
            "    Symbol            Security\n",
            "0      MMM                  3M\n",
            "1      AOS         A. O. Smith\n",
            "2      ABT              Abbott\n",
            "3     ABBV              AbbVie\n",
            "4     ABMD             Abiomed\n",
            "..     ...                 ...\n",
            "500    YUM         Yum! Brands\n",
            "501   ZBRA  Zebra Technologies\n",
            "502    ZBH       Zimmer Biomet\n",
            "503   ZION       Zions Bancorp\n",
            "504    ZTS              Zoetis\n",
            "\n",
            "[505 rows x 2 columns]\n",
            "   Symbol Security\n",
            "46   AAPL    Apple\n"
          ]
        }
      ]
    },
    {
      "cell_type": "markdown",
      "source": [
        ""
      ],
      "metadata": {
        "id": "J0WLGrPXgeSE"
      }
    },
    {
      "cell_type": "code",
      "source": [
        "import pandas as pd\n",
        "import requests\n",
        "url_link='https://finance.yahoo.com/quote/TSLA/profile?guccounter=1' \n",
        "r= requests.get(url_link, header ={'User-Agent':})"
      ],
      "metadata": {
        "id": "SbMOAcZBgel8",
        "colab": {
          "base_uri": "https://localhost:8080/",
          "height": 130
        },
        "outputId": "4255b18e-eee8-447b-cf8b-f3f2633c408b"
      },
      "execution_count": 14,
      "outputs": [
        {
          "output_type": "error",
          "ename": "SyntaxError",
          "evalue": "ignored",
          "traceback": [
            "\u001b[0;36m  File \u001b[0;32m\"<ipython-input-14-2e4f23f4bf63>\"\u001b[0;36m, line \u001b[0;32m4\u001b[0m\n\u001b[0;31m    r= requests.get(url_link, header ={'User-Agent':})\u001b[0m\n\u001b[0m                                                    ^\u001b[0m\n\u001b[0;31mSyntaxError\u001b[0m\u001b[0;31m:\u001b[0m invalid syntax\n"
          ]
        }
      ]
    },
    {
      "cell_type": "markdown",
      "source": [
        ""
      ],
      "metadata": {
        "id": "Im3tcwApk8r7"
      }
    },
    {
      "cell_type": "code",
      "source": [
        "import yfinance as yf"
      ],
      "metadata": {
        "id": "9l--S91Ck87v"
      },
      "execution_count": 13,
      "outputs": []
    },
    {
      "cell_type": "markdown",
      "source": [
        ""
      ],
      "metadata": {
        "id": "fLylnjys1A7G"
      }
    },
    {
      "cell_type": "code",
      "source": [
        "import yfinance as yf\n",
        "import matplotlib.pyplot as plt\n",
        "data= yf.Ticker(\"TSLA\")\n",
        "x= data.earnings\n",
        "x.plot(kind=\"bar\")"
      ],
      "metadata": {
        "colab": {
          "base_uri": "https://localhost:8080/",
          "height": 323
        },
        "id": "qypN75541BOO",
        "outputId": "58db47bc-fd01-4d5a-977b-158d3ce97c5a"
      },
      "execution_count": 12,
      "outputs": [
        {
          "output_type": "execute_result",
          "data": {
            "text/plain": [
              "<matplotlib.axes._subplots.AxesSubplot at 0x7fc48a20aa90>"
            ]
          },
          "metadata": {},
          "execution_count": 12
        },
        {
          "output_type": "display_data",
          "data": {
            "image/png": "[encoded data removed]",
            "text/plain": [
              "<Figure size 432x288 with 1 Axes>"
            ]
          },
          "metadata": {
            "needs_background": "light"
          }
        }
      ]
    },
    {
      "cell_type": "markdown",
      "source": [
        ""
      ],
      "metadata": {
        "id": "X6dd7P3IdfAn"
      }
    },
    {
      "cell_type": "code",
      "source": [
        ""
      ],
      "metadata": {
        "id": "L4K1UfRbdfTm"
      },
      "execution_count": null,
      "outputs": []
    },
    {
      "cell_type": "markdown",
      "source": [
        ""
      ],
      "metadata": {
        "id": "0gO9UYG1dg1n"
      }
    },
    {
      "cell_type": "code",
      "source": [
        ""
      ],
      "metadata": {
        "id": "qYlaaFCrdjw2"
      },
      "execution_count": null,
      "outputs": []
    },
    {
      "cell_type": "markdown",
      "source": [
        ""
      ],
      "metadata": {
        "id": "F3ppU3dlcngG"
      }
    },
    {
      "cell_type": "code",
      "source": [
        "!pip install yfinance"
      ],
      "metadata": {
        "colab": {
          "base_uri": "https://localhost:8080/"
        },
        "id": "e1A9Bw49cnwX",
        "outputId": "c4fcc66e-9d1b-4dfc-ba05-dfa8ef849b88"
      },
      "execution_count": 1,
      "outputs": [
        {
          "output_type": "stream",
          "name": "stdout",
          "text": [
            "Collecting yfinance\n",
            "  Downloading yfinance-0.1.70-py2.py3-none-any.whl (26 kB)\n",
            "Requirement already satisfied: numpy>=1.15 in /usr/local/lib/python3.7/dist-packages (from yfinance) (1.19.5)\n",
            "Collecting lxml>=4.5.1\n",
            "  Downloading lxml-4.7.1-cp37-cp37m-manylinux_2_17_x86_64.manylinux2014_x86_64.manylinux_2_24_x86_64.whl (6.4 MB)\n",
            "\u001b[K     |████████████████████████████████| 6.4 MB 7.2 MB/s \n",
            "\u001b[?25hRequirement already satisfied: multitasking>=0.0.7 in /usr/local/lib/python3.7/dist-packages (from yfinance) (0.0.10)\n",
            "Collecting requests>=2.26\n",
            "  Downloading requests-2.27.1-py2.py3-none-any.whl (63 kB)\n",
            "\u001b[K     |████████████████████████████████| 63 kB 1.6 MB/s \n",
            "\u001b[?25hRequirement already satisfied: pandas>=0.24.0 in /usr/local/lib/python3.7/dist-packages (from yfinance) (1.3.5)\n",
            "Requirement already satisfied: python-dateutil>=2.7.3 in /usr/local/lib/python3.7/dist-packages (from pandas>=0.24.0->yfinance) (2.8.2)\n",
            "Requirement already satisfied: pytz>=2017.3 in /usr/local/lib/python3.7/dist-packages (from pandas>=0.24.0->yfinance) (2018.9)\n",
            "Requirement already satisfied: six>=1.5 in /usr/local/lib/python3.7/dist-packages (from python-dateutil>=2.7.3->pandas>=0.24.0->yfinance) (1.15.0)\n",
            "Requirement already satisfied: certifi>=2017.4.17 in /usr/local/lib/python3.7/dist-packages (from requests>=2.26->yfinance) (2021.10.8)\n",
            "Requirement already satisfied: charset-normalizer~=2.0.0 in /usr/local/lib/python3.7/dist-packages (from requests>=2.26->yfinance) (2.0.11)\n",
            "Requirement already satisfied: idna<4,>=2.5 in /usr/local/lib/python3.7/dist-packages (from requests>=2.26->yfinance) (2.10)\n",
            "Requirement already satisfied: urllib3<1.27,>=1.21.1 in /usr/local/lib/python3.7/dist-packages (from requests>=2.26->yfinance) (1.24.3)\n",
            "Installing collected packages: requests, lxml, yfinance\n",
            "  Attempting uninstall: requests\n",
            "    Found existing installation: requests 2.23.0\n",
            "    Uninstalling requests-2.23.0:\n",
            "      Successfully uninstalled requests-2.23.0\n",
            "  Attempting uninstall: lxml\n",
            "    Found existing installation: lxml 4.2.6\n",
            "    Uninstalling lxml-4.2.6:\n",
            "      Successfully uninstalled lxml-4.2.6\n",
            "\u001b[31mERROR: pip's dependency resolver does not currently take into account all the packages that are installed. This behaviour is the source of the following dependency conflicts.\n",
            "google-colab 1.0.0 requires requests~=2.23.0, but you have requests 2.27.1 which is incompatible.\n",
            "datascience 0.10.6 requires folium==0.2.1, but you have folium 0.8.3 which is incompatible.\u001b[0m\n",
            "Successfully installed lxml-4.7.1 requests-2.27.1 yfinance-0.1.70\n"
          ]
        }
      ]
    },
    {
      "cell_type": "markdown",
      "source": [
        ""
      ],
      "metadata": {
        "id": "O_Bqi6-adFWe"
      }
    },
    {
      "cell_type": "code",
      "source": [
        "import yfinance as yf\n",
        "import matplotlib.pyplot as plt\n",
        "data= yf.Ticker(\"TSLA\")\n",
        "print(data.info)\n",
        "print(data.info['profitMargins'])\n",
        "print(data.info['returnOnEquity'])\n",
        "\n",
        "data= yf.Ticker(\"TSLA\")\n",
        "x= data.earnings\n",
        "x.plot(kind=\"bar\")"
      ],
      "metadata": {
        "colab": {
          "base_uri": "https://localhost:8080/",
          "height": 395
        },
        "id": "8xdQZfIvdFiP",
        "outputId": "6eeaa3ce-8d81-46bd-d4fc-d9d173dd494b"
      },
      "execution_count": 3,
      "outputs": [
        {
          "output_type": "stream",
          "name": "stdout",
          "text": [
            "{'zip': '78725', 'sector': 'Consumer Cyclical', 'longBusinessSummary': 'Tesla, Inc. designs, develops, manufactures, leases, and sells electric vehicles, and energy generation and storage systems in the United States, China, and internationally. The company operates in two segments, Automotive, and Energy Generation and Storage. The Automotive segment offers electric vehicles, as well as sells automotive regulatory credits. It provides sedans and sport utility vehicles through direct and used vehicle sales, a network of Tesla Superchargers, and in-app upgrades; and purchase financing and leasing services. This segment is also involved in the provision of non-warranty after-sales vehicle services, sale of used vehicles, retail merchandise, and vehicle insurance, as well as sale of products through its subsidiaries to third party customers; services for electric vehicles through its company-owned service locations, and Tesla mobile service technicians; and vehicle limited warranties and extended service plans. The Energy Generation and Storage segment engages in the design, manufacture, installation, sale, and leasing of solar energy generation and energy storage products, and related services to residential, commercial, and industrial customers and utilities through its website, stores, and galleries, as well as through a network of channel partners. This segment also offers service and repairs to its energy product customers, including under warranty; and various financing options to its solar customers. The company was formerly known as Tesla Motors, Inc. and changed its name to Tesla, Inc. in February 2017. Tesla, Inc. was founded in 2003 and is headquartered in Austin, Texas.', 'city': 'Austin', 'phone': '650-681-5000', 'state': 'TX', 'country': 'United States', 'companyOfficers': [], 'website': 'https://www.tesla.com', 'maxAge': 1, 'address1': '13101 Harold Green Road', 'industry': 'Auto Manufacturers', 'ebitdaMargins': 0.1723, 'profitMargins': 0.102539994, 'grossMargins': 0.25279, 'operatingCashflow': None, 'revenueGrowth': 0.649, 'operatingMargins': 0.121190004, 'ebitda': 9273665536, 'targetLowPrice': 250, 'recommendationKey': 'hold', 'grossProfits': 13606000000, 'freeCashflow': None, 'targetMedianPrice': 1045, 'currentPrice': 907.34, 'earningsGrowth': 7.549, 'currentRatio': 1.375, 'returnOnAssets': 0.07135, 'numberOfAnalystOpinions': 35, 'targetMeanPrice': 967.07, 'debtToEquity': 21.638, 'returnOnEquity': 0.19974001, 'targetHighPrice': 1480, 'totalCash': 17706999808, 'totalDebt': 6833999872, 'totalRevenue': 53823000576, 'totalCashPerShare': 17.632, 'financialCurrency': 'USD', 'revenuePerShare': 47.786, 'quickRatio': 0.996, 'recommendationMean': 2.6, 'exchange': 'NMS', 'shortName': 'Tesla, Inc.', 'longName': 'Tesla, Inc.', 'exchangeTimezoneName': 'America/New_York', 'exchangeTimezoneShortName': 'EST', 'isEsgPopulated': False, 'gmtOffSetMilliseconds': '-18000000', 'quoteType': 'EQUITY', 'symbol': 'TSLA', 'messageBoardId': 'finmb_27444752', 'market': 'us_market', 'annualHoldingsTurnover': None, 'enterpriseToRevenue': 17.052, 'beta3Year': None, 'enterpriseToEbitda': 98.966, '52WeekChange': 0.08694935, 'morningStarRiskRating': None, 'forwardEps': 12.39, 'revenueQuarterlyGrowth': None, 'sharesOutstanding': 1004259968, 'fundInceptionDate': None, 'annualReportExpenseRatio': None, 'totalAssets': None, 'bookValue': 30.069, 'sharesShort': 22461226, 'sharesPercentSharesOut': 0.0224, 'fundFamily': None, 'lastFiscalYearEnd': 1640908800, 'heldPercentInstitutions': 0.42301998, 'netIncomeToCommon': 5519000064, 'trailingEps': 4.9, 'lastDividendValue': None, 'SandP52WeekChange': 0.15066874, 'priceToBook': 30.175264, 'heldPercentInsiders': 0.1996, 'nextFiscalYearEnd': 1703980800, 'yield': None, 'mostRecentQuarter': 1640908800, 'shortRatio': 0.87, 'sharesShortPreviousMonthDate': 1639526400, 'floatShares': 809377215, 'beta': 2.006464, 'enterpriseValue': 917778792448, 'priceHint': 2, 'threeYearAverageReturn': None, 'lastSplitDate': 1598832000, 'lastSplitFactor': '5:1', 'legalType': None, 'lastDividendDate': None, 'morningStarOverallRating': None, 'earningsQuarterlyGrowth': 7.596, 'priceToSalesTrailing12Months': 16.929663, 'dateShortInterest': 1642118400, 'pegRatio': 4.02, 'ytdReturn': None, 'forwardPE': 73.231636, 'lastCapGain': None, 'shortPercentOfFloat': 0.0275, 'sharesShortPriorMonth': 25817321, 'impliedSharesOutstanding': None, 'category': None, 'fiveYearAverageReturn': None, 'previousClose': 923.32, 'regularMarketOpen': 923.79, 'twoHundredDayAverage': 819.1011, 'trailingAnnualDividendYield': 0, 'payoutRatio': 0, 'volume24Hr': None, 'regularMarketDayHigh': 947.77, 'navPrice': None, 'averageDailyVolume10Day': 34052270, 'regularMarketPreviousClose': 923.32, 'fiftyDayAverage': 1014.9998, 'trailingAnnualDividendRate': 0, 'open': 923.79, 'toCurrency': None, 'averageVolume10days': 34052270, 'expireDate': None, 'algorithm': None, 'dividendRate': None, 'exDividendDate': None, 'circulatingSupply': None, 'startDate': None, 'regularMarketDayLow': 902.7089, 'currency': 'USD', 'trailingPE': 185.17143, 'regularMarketVolume': 20102666, 'lastMarket': None, 'maxSupply': None, 'openInterest': None, 'marketCap': 911205269504, 'volumeAllCurrencies': None, 'strikePrice': None, 'averageVolume': 27551668, 'dayLow': 902.7089, 'ask': 910.2, 'askSize': 1000, 'volume': 20102666, 'fiftyTwoWeekHigh': 1243.49, 'fromCurrency': None, 'fiveYearAvgDividendYield': None, 'fiftyTwoWeekLow': 539.49, 'bid': 908.08, 'tradeable': False, 'dividendYield': None, 'bidSize': 2200, 'dayHigh': 947.77, 'regularMarketPrice': 907.34, 'preMarketPrice': 924, 'logo_url': 'https://logo.clearbit.com/tesla.com', 'trailingPegRatio': 2.6328}\n",
            "0.102539994\n",
            "0.19974001\n"
          ]
        },
        {
          "output_type": "execute_result",
          "data": {
            "text/plain": [
              "<matplotlib.axes._subplots.AxesSubplot at 0x7fc48c492450>"
            ]
          },
          "metadata": {},
          "execution_count": 3
        },
        {
          "output_type": "display_data",
          "data": {
            "image/png": "[encoded data removed]",
            "text/plain": [
              "<Figure size 432x288 with 1 Axes>"
            ]
          },
          "metadata": {
            "needs_background": "light"
          }
        }
      ]
    },
    {
      "cell_type": "markdown",
      "source": [
        ""
      ],
      "metadata": {
        "id": "IUIWn-BRd4zp"
      }
    },
    {
      "cell_type": "code",
      "source": [
        "#ANALYZING DATA\n",
        "#Calculating daily returns of a stock\n",
        "import yfinance as yf\n",
        "data= yf.Ticker('TSLA')\n",
        "price= data.history(period='1y')\n",
        "x= price['Close'].pct_change()\n",
        "print(x)\n",
        "x.plot()\n",
        "\n"
      ],
      "metadata": {
        "colab": {
          "base_uri": "https://localhost:8080/",
          "height": 520
        },
        "id": "055_quVNd5Mn",
        "outputId": "7abe562f-aeb2-4c35-f070-a9f3dec51b90"
      },
      "execution_count": 16,
      "outputs": [
        {
          "output_type": "stream",
          "name": "stdout",
          "text": [
            "Date\n",
            "2021-02-08         NaN\n",
            "2021-02-09   -0.016168\n",
            "2021-02-10   -0.052551\n",
            "2021-02-11    0.008499\n",
            "2021-02-12    0.005495\n",
            "                ...   \n",
            "2022-02-01   -0.005839\n",
            "2022-02-02   -0.027479\n",
            "2022-02-03   -0.016032\n",
            "2022-02-04    0.036111\n",
            "2022-02-07   -0.017307\n",
            "Name: Close, Length: 253, dtype: float64\n"
          ]
        },
        {
          "output_type": "execute_result",
          "data": {
            "text/plain": [
              "<matplotlib.axes._subplots.AxesSubplot at 0x7fc48a057510>"
            ]
          },
          "metadata": {},
          "execution_count": 16
        },
        {
          "output_type": "display_data",
          "data": {
            "image/png": "[encoded data removed]",
            "text/plain": [
              "<Figure size 432x288 with 1 Axes>"
            ]
          },
          "metadata": {
            "needs_background": "light"
          }
        }
      ]
    },
    {
      "cell_type": "markdown",
      "source": [
        ""
      ],
      "metadata": {
        "id": "4VuL9ZMzf2oB"
      }
    },
    {
      "cell_type": "markdown",
      "source": [
        ""
      ],
      "metadata": {
        "id": "zHTOqr9Jf2q_"
      }
    },
    {
      "cell_type": "code",
      "source": [
        "import yfinance as yf\n",
        "data= yf.Ticker('TSLA')\n",
        "price= data.history(period='1y')\n",
        "x= price['Close'].pct_change()\n",
        "print(x)\n",
        "x.plot(kind='hist')"
      ],
      "metadata": {
        "colab": {
          "base_uri": "https://localhost:8080/",
          "height": 508
        },
        "id": "wUo50uyAf26f",
        "outputId": "6443373b-4d0c-49f6-9d3d-e80e5ca96c4f"
      },
      "execution_count": 17,
      "outputs": [
        {
          "output_type": "stream",
          "name": "stdout",
          "text": [
            "Date\n",
            "2021-02-08         NaN\n",
            "2021-02-09   -0.016168\n",
            "2021-02-10   -0.052551\n",
            "2021-02-11    0.008499\n",
            "2021-02-12    0.005495\n",
            "                ...   \n",
            "2022-02-01   -0.005839\n",
            "2022-02-02   -0.027479\n",
            "2022-02-03   -0.016032\n",
            "2022-02-04    0.036111\n",
            "2022-02-07   -0.017307\n",
            "Name: Close, Length: 253, dtype: float64\n"
          ]
        },
        {
          "output_type": "execute_result",
          "data": {
            "text/plain": [
              "<matplotlib.axes._subplots.AxesSubplot at 0x7fc48c5b54d0>"
            ]
          },
          "metadata": {},
          "execution_count": 17
        },
        {
          "output_type": "display_data",
          "data": {
            "image/png": "[encoded data removed]",
            "text/plain": [
              "<Figure size 432x288 with 1 Axes>"
            ]
          },
          "metadata": {
            "needs_background": "light"
          }
        }
      ]
    },
    {
      "cell_type": "markdown",
      "source": [
        ""
      ],
      "metadata": {
        "id": "HyDX8xO7iqsc"
      }
    },
    {
      "cell_type": "code",
      "source": [
        "import yfinance as yf\n",
        "data= yf.Ticker('TSLA')\n",
        "price= data.history(period='1y')\n",
        "x= price['Close'].pct_change()\n",
        "returns= (x+1).cumprod()\n",
        "returns.plot()"
      ],
      "metadata": {
        "colab": {
          "base_uri": "https://localhost:8080/",
          "height": 294
        },
        "id": "PhFr3_U7iq6Z",
        "outputId": "a9a5af11-865e-4dba-dc92-af0a7ecdc3ab"
      },
      "execution_count": 19,
      "outputs": [
        {
          "output_type": "execute_result",
          "data": {
            "text/plain": [
              "<matplotlib.axes._subplots.AxesSubplot at 0x7fc489e5a510>"
            ]
          },
          "metadata": {},
          "execution_count": 19
        },
        {
          "output_type": "display_data",
          "data": {
            "image/png": "[encoded data removed]",
            "text/plain": [
              "<Figure size 432x288 with 1 Axes>"
            ]
          },
          "metadata": {
            "needs_background": "light"
          }
        }
      ]
    },
    {
      "cell_type": "markdown",
      "source": [
        ""
      ],
      "metadata": {
        "id": "WG9Pm61ilC_y"
      }
    },
    {
      "cell_type": "code",
      "source": [
        "#Example\n",
        "import numpy as np\n",
        "x= np.array([2, 4, 2])\n",
        "r= x.cumprod()\n",
        "print(r)\n"
      ],
      "metadata": {
        "colab": {
          "base_uri": "https://localhost:8080/"
        },
        "id": "CG_mzheulEYb",
        "outputId": "a6c38b46-54e3-4543-f4ce-1461562491b6"
      },
      "execution_count": 21,
      "outputs": [
        {
          "output_type": "stream",
          "name": "stdout",
          "text": [
            "[ 2  8 16]\n"
          ]
        }
      ]
    },
    {
      "cell_type": "code",
      "source": [
        "#Let's take 3 different tickers and use the pct_change() function to calculate the daily returns:\n",
        "data= yf.download(\"AAPL MSFT TSLA\", start= '2021-01-01')\n",
        "x= data['Close'].pct_change\n",
        "print(x)\n",
        "print(x.describe())"
      ],
      "metadata": {
        "colab": {
          "base_uri": "https://localhost:8080/",
          "height": 478
        },
        "id": "9HFVVxE2lDNf",
        "outputId": "8aab7de1-7823-49f7-89d4-725a721cef44"
      },
      "execution_count": 24,
      "outputs": [
        {
          "output_type": "stream",
          "name": "stdout",
          "text": [
            "[*********************100%***********************]  3 of 3 completed\n",
            "<bound method NDFrame.pct_change of                   AAPL        MSFT        TSLA\n",
            "Date                                          \n",
            "2021-01-04  129.410004  217.690002  729.770020\n",
            "2021-01-05  131.009995  217.899994  735.109985\n",
            "2021-01-06  126.599998  212.250000  755.979980\n",
            "2021-01-07  130.919998  218.289993  816.039978\n",
            "2021-01-08  132.050003  219.619995  880.020020\n",
            "...                ...         ...         ...\n",
            "2022-02-01  174.610001  308.760010  931.250000\n",
            "2022-02-02  175.839996  313.459991  905.659973\n",
            "2022-02-03  172.899994  301.250000  891.140015\n",
            "2022-02-04  172.389999  305.940002  923.320007\n",
            "2022-02-07  171.660004  300.950012  907.340027\n",
            "\n",
            "[277 rows x 3 columns]>\n"
          ]
        },
        {
          "output_type": "error",
          "ename": "AttributeError",
          "evalue": "ignored",
          "traceback": [
            "\u001b[0;31m---------------------------------------------------------------------------\u001b[0m",
            "\u001b[0;31mAttributeError\u001b[0m                            Traceback (most recent call last)",
            "\u001b[0;32m<ipython-input-24-5b764f85aa78>\u001b[0m in \u001b[0;36m<module>\u001b[0;34m()\u001b[0m\n\u001b[1;32m      3\u001b[0m \u001b[0mx\u001b[0m\u001b[0;34m=\u001b[0m \u001b[0mdata\u001b[0m\u001b[0;34m[\u001b[0m\u001b[0;34m'Close'\u001b[0m\u001b[0;34m]\u001b[0m\u001b[0;34m.\u001b[0m\u001b[0mpct_change\u001b[0m\u001b[0;34m\u001b[0m\u001b[0;34m\u001b[0m\u001b[0m\n\u001b[1;32m      4\u001b[0m \u001b[0mprint\u001b[0m\u001b[0;34m(\u001b[0m\u001b[0mx\u001b[0m\u001b[0;34m)\u001b[0m\u001b[0;34m\u001b[0m\u001b[0;34m\u001b[0m\u001b[0m\n\u001b[0;32m----> 5\u001b[0;31m \u001b[0mprint\u001b[0m\u001b[0;34m(\u001b[0m\u001b[0mx\u001b[0m\u001b[0;34m.\u001b[0m\u001b[0mdescribe\u001b[0m\u001b[0;34m(\u001b[0m\u001b[0;34m)\u001b[0m\u001b[0;34m)\u001b[0m\u001b[0;34m\u001b[0m\u001b[0;34m\u001b[0m\u001b[0m\n\u001b[0m",
            "\u001b[0;31mAttributeError\u001b[0m: 'function' object has no attribute 'describe'"
          ]
        }
      ]
    },
    {
      "cell_type": "markdown",
      "source": [
        ""
      ],
      "metadata": {
        "id": "dp2lDtg7rqbf"
      }
    },
    {
      "cell_type": "code",
      "source": [
        "data= yf.download(\"AAPL MSFT TSLA\", start= '2021-01-01')\n",
        "x= data['Close'].pct_change\n",
        "print(x.describe())"
      ],
      "metadata": {
        "colab": {
          "base_uri": "https://localhost:8080/",
          "height": 217
        },
        "id": "SvPS2m8Rrqoi",
        "outputId": "688bee66-5ba4-4142-e6ea-c56e386ee1fd"
      },
      "execution_count": 25,
      "outputs": [
        {
          "output_type": "stream",
          "name": "stdout",
          "text": [
            "[*********************100%***********************]  3 of 3 completed\n"
          ]
        },
        {
          "output_type": "error",
          "ename": "AttributeError",
          "evalue": "ignored",
          "traceback": [
            "\u001b[0;31m---------------------------------------------------------------------------\u001b[0m",
            "\u001b[0;31mAttributeError\u001b[0m                            Traceback (most recent call last)",
            "\u001b[0;32m<ipython-input-25-84fd7fe8b411>\u001b[0m in \u001b[0;36m<module>\u001b[0;34m()\u001b[0m\n\u001b[1;32m      1\u001b[0m \u001b[0mdata\u001b[0m\u001b[0;34m=\u001b[0m \u001b[0myf\u001b[0m\u001b[0;34m.\u001b[0m\u001b[0mdownload\u001b[0m\u001b[0;34m(\u001b[0m\u001b[0;34m\"AAPL MSFT TSLA\"\u001b[0m\u001b[0;34m,\u001b[0m \u001b[0mstart\u001b[0m\u001b[0;34m=\u001b[0m \u001b[0;34m'2021-01-01'\u001b[0m\u001b[0;34m)\u001b[0m\u001b[0;34m\u001b[0m\u001b[0;34m\u001b[0m\u001b[0m\n\u001b[1;32m      2\u001b[0m \u001b[0mx\u001b[0m\u001b[0;34m=\u001b[0m \u001b[0mdata\u001b[0m\u001b[0;34m[\u001b[0m\u001b[0;34m'Close'\u001b[0m\u001b[0;34m]\u001b[0m\u001b[0;34m.\u001b[0m\u001b[0mpct_change\u001b[0m\u001b[0;34m\u001b[0m\u001b[0;34m\u001b[0m\u001b[0m\n\u001b[0;32m----> 3\u001b[0;31m \u001b[0mprint\u001b[0m\u001b[0;34m(\u001b[0m\u001b[0mx\u001b[0m\u001b[0;34m.\u001b[0m\u001b[0mdescribe\u001b[0m\u001b[0;34m(\u001b[0m\u001b[0;34m)\u001b[0m\u001b[0;34m)\u001b[0m\u001b[0;34m\u001b[0m\u001b[0;34m\u001b[0m\u001b[0m\n\u001b[0m",
            "\u001b[0;31mAttributeError\u001b[0m: 'function' object has no attribute 'describe'"
          ]
        }
      ]
    },
    {
      "cell_type": "markdown",
      "source": [
        ""
      ],
      "metadata": {
        "id": "ksJMErdfsDkF"
      }
    },
    {
      "cell_type": "code",
      "source": [
        "data= yf.download(\"AAPL MSFT TSLA\", start= '2021-01-01')\n",
        "data['Close'].plot()"
      ],
      "metadata": {
        "colab": {
          "base_uri": "https://localhost:8080/",
          "height": 312
        },
        "id": "KZTffGDFsERa",
        "outputId": "0e971715-19b7-41d2-8eb1-5ac6c9558d1e"
      },
      "execution_count": 26,
      "outputs": [
        {
          "output_type": "stream",
          "name": "stdout",
          "text": [
            "[*********************100%***********************]  3 of 3 completed\n"
          ]
        },
        {
          "output_type": "execute_result",
          "data": {
            "text/plain": [
              "<matplotlib.axes._subplots.AxesSubplot at 0x7fc489d492d0>"
            ]
          },
          "metadata": {},
          "execution_count": 26
        },
        {
          "output_type": "display_data",
          "data": {
            "image/png": "[encoded data removed]",
            "text/plain": [
              "<Figure size 432x288 with 1 Axes>"
            ]
          },
          "metadata": {
            "needs_background": "light"
          }
        }
      ]
    },
    {
      "cell_type": "markdown",
      "source": [
        ""
      ],
      "metadata": {
        "id": "PyqaJxtosWUO"
      }
    },
    {
      "cell_type": "code",
      "source": [
        "data= yf.download(\"AAPL MSFT TSLA\", start= '2021-01-01')\n",
        "x=data['Close'].pct_change()\n",
        "x.plot()"
      ],
      "metadata": {
        "colab": {
          "base_uri": "https://localhost:8080/",
          "height": 312
        },
        "id": "LL3QwzsSsWur",
        "outputId": "fd57612c-7377-47da-ce5b-aa59b5069bdc"
      },
      "execution_count": 28,
      "outputs": [
        {
          "output_type": "stream",
          "name": "stdout",
          "text": [
            "[*********************100%***********************]  3 of 3 completed\n"
          ]
        },
        {
          "output_type": "execute_result",
          "data": {
            "text/plain": [
              "<matplotlib.axes._subplots.AxesSubplot at 0x7fc488c87f50>"
            ]
          },
          "metadata": {},
          "execution_count": 28
        },
        {
          "output_type": "display_data",
          "data": {
            "image/png": "[encoded data removed]",
            "text/plain": [
              "<Figure size 432x288 with 1 Axes>"
            ]
          },
          "metadata": {
            "needs_background": "light"
          }
        }
      ]
    },
    {
      "cell_type": "markdown",
      "source": [
        ""
      ],
      "metadata": {
        "id": "MaOeNlRcs2oC"
      }
    },
    {
      "cell_type": "code",
      "source": [
        "x=data['Close'].pct_change()\n",
        "(x+1).cumprod().plot()"
      ],
      "metadata": {
        "colab": {
          "base_uri": "https://localhost:8080/",
          "height": 294
        },
        "id": "6X3QqUNgs3Ht",
        "outputId": "0c044dea-b62c-437f-b909-c3b250a5b264"
      },
      "execution_count": 29,
      "outputs": [
        {
          "output_type": "execute_result",
          "data": {
            "text/plain": [
              "<matplotlib.axes._subplots.AxesSubplot at 0x7fc488ba7790>"
            ]
          },
          "metadata": {},
          "execution_count": 29
        },
        {
          "output_type": "display_data",
          "data": {
            "image/png": "[encoded data removed]",
            "text/plain": [
              "<Figure size 432x288 with 1 Axes>"
            ]
          },
          "metadata": {
            "needs_background": "light"
          }
        }
      ]
    },
    {
      "cell_type": "markdown",
      "source": [
        ""
      ],
      "metadata": {
        "id": "gbli_1lltQ7-"
      }
    },
    {
      "cell_type": "code",
      "source": [
        "#CORRELATION\n",
        "data= yf.download(\"FB AMZN AAPL NFLX GOOG\", start='2021-01-01')\n",
        "x= data['Close'].pct_change()\n",
        "corr= x.corr()\n",
        "print(corr)"
      ],
      "metadata": {
        "colab": {
          "base_uri": "https://localhost:8080/"
        },
        "id": "hZW0uwCrtRdA",
        "outputId": "a70a52ca-ed41-4e92-df1b-c1e0b8cff423"
      },
      "execution_count": 30,
      "outputs": [
        {
          "output_type": "stream",
          "name": "stdout",
          "text": [
            "[*********************100%***********************]  5 of 5 completed\n",
            "          AAPL      AMZN        FB      GOOG      NFLX\n",
            "AAPL  1.000000  0.533846  0.432752  0.552314  0.353257\n",
            "AMZN  0.533846  1.000000  0.519626  0.528968  0.474892\n",
            "FB    0.432752  0.519626  1.000000  0.537312  0.406186\n",
            "GOOG  0.552314  0.528968  0.537312  1.000000  0.396913\n",
            "NFLX  0.353257  0.474892  0.406186  0.396913  1.000000\n"
          ]
        }
      ]
    },
    {
      "cell_type": "markdown",
      "source": [
        ""
      ],
      "metadata": {
        "id": "3akg5m9XvEzu"
      }
    },
    {
      "cell_type": "code",
      "source": [
        "!pip install statsmodels.api\n",
        "import statsmodels.api as sm\n",
        "ta= yf.download(\"FB AMZN AAPL NFLX GOOG\", start='2021-01-01')\n",
        "x= data['Close'].pct_change()\n",
        "corr= x.corr()\n",
        "sm.graphics.plot_corr(corr, xnames=list(x.coloumns))\n"
      ],
      "metadata": {
        "colab": {
          "base_uri": "https://localhost:8080/",
          "height": 373
        },
        "id": "epw9-R3fvE_b",
        "outputId": "93fea2aa-0914-446c-c222-f7468d89a85d"
      },
      "execution_count": 32,
      "outputs": [
        {
          "output_type": "stream",
          "name": "stdout",
          "text": [
            "\u001b[31mERROR: Could not find a version that satisfies the requirement statsmodels.api (from versions: none)\u001b[0m\n",
            "\u001b[31mERROR: No matching distribution found for statsmodels.api\u001b[0m\n",
            "[*********************100%***********************]  5 of 5 completed\n"
          ]
        },
        {
          "output_type": "error",
          "ename": "AttributeError",
          "evalue": "ignored",
          "traceback": [
            "\u001b[0;31m---------------------------------------------------------------------------\u001b[0m",
            "\u001b[0;31mAttributeError\u001b[0m                            Traceback (most recent call last)",
            "\u001b[0;32m<ipython-input-32-2bc3324a42ca>\u001b[0m in \u001b[0;36m<module>\u001b[0;34m()\u001b[0m\n\u001b[1;32m      4\u001b[0m \u001b[0mx\u001b[0m\u001b[0;34m=\u001b[0m \u001b[0mdata\u001b[0m\u001b[0;34m[\u001b[0m\u001b[0;34m'Close'\u001b[0m\u001b[0;34m]\u001b[0m\u001b[0;34m.\u001b[0m\u001b[0mpct_change\u001b[0m\u001b[0;34m(\u001b[0m\u001b[0;34m)\u001b[0m\u001b[0;34m\u001b[0m\u001b[0;34m\u001b[0m\u001b[0m\n\u001b[1;32m      5\u001b[0m \u001b[0mcorr\u001b[0m\u001b[0;34m=\u001b[0m \u001b[0mx\u001b[0m\u001b[0;34m.\u001b[0m\u001b[0mcorr\u001b[0m\u001b[0;34m(\u001b[0m\u001b[0;34m)\u001b[0m\u001b[0;34m\u001b[0m\u001b[0;34m\u001b[0m\u001b[0m\n\u001b[0;32m----> 6\u001b[0;31m \u001b[0msm\u001b[0m\u001b[0;34m.\u001b[0m\u001b[0mgraphics\u001b[0m\u001b[0;34m.\u001b[0m\u001b[0mplot_corr\u001b[0m\u001b[0;34m(\u001b[0m\u001b[0mcorr\u001b[0m\u001b[0;34m,\u001b[0m \u001b[0mxnames\u001b[0m\u001b[0;34m=\u001b[0m\u001b[0mlist\u001b[0m\u001b[0;34m(\u001b[0m\u001b[0mx\u001b[0m\u001b[0;34m.\u001b[0m\u001b[0mcoloumns\u001b[0m\u001b[0;34m)\u001b[0m\u001b[0;34m)\u001b[0m\u001b[0;34m\u001b[0m\u001b[0;34m\u001b[0m\u001b[0m\n\u001b[0m",
            "\u001b[0;32m/usr/local/lib/python3.7/dist-packages/pandas/core/generic.py\u001b[0m in \u001b[0;36m__getattr__\u001b[0;34m(self, name)\u001b[0m\n\u001b[1;32m   5485\u001b[0m         ):\n\u001b[1;32m   5486\u001b[0m             \u001b[0;32mreturn\u001b[0m \u001b[0mself\u001b[0m\u001b[0;34m[\u001b[0m\u001b[0mname\u001b[0m\u001b[0;34m]\u001b[0m\u001b[0;34m\u001b[0m\u001b[0;34m\u001b[0m\u001b[0m\n\u001b[0;32m-> 5487\u001b[0;31m         \u001b[0;32mreturn\u001b[0m \u001b[0mobject\u001b[0m\u001b[0;34m.\u001b[0m\u001b[0m__getattribute__\u001b[0m\u001b[0;34m(\u001b[0m\u001b[0mself\u001b[0m\u001b[0;34m,\u001b[0m \u001b[0mname\u001b[0m\u001b[0;34m)\u001b[0m\u001b[0;34m\u001b[0m\u001b[0;34m\u001b[0m\u001b[0m\n\u001b[0m\u001b[1;32m   5488\u001b[0m \u001b[0;34m\u001b[0m\u001b[0m\n\u001b[1;32m   5489\u001b[0m     \u001b[0;32mdef\u001b[0m \u001b[0m__setattr__\u001b[0m\u001b[0;34m(\u001b[0m\u001b[0mself\u001b[0m\u001b[0;34m,\u001b[0m \u001b[0mname\u001b[0m\u001b[0;34m:\u001b[0m \u001b[0mstr\u001b[0m\u001b[0;34m,\u001b[0m \u001b[0mvalue\u001b[0m\u001b[0;34m)\u001b[0m \u001b[0;34m->\u001b[0m \u001b[0;32mNone\u001b[0m\u001b[0;34m:\u001b[0m\u001b[0;34m\u001b[0m\u001b[0;34m\u001b[0m\u001b[0m\n",
            "\u001b[0;31mAttributeError\u001b[0m: 'DataFrame' object has no attribute 'coloumns'"
          ]
        }
      ]
    },
    {
      "cell_type": "markdown",
      "source": [
        ""
      ],
      "metadata": {
        "id": "Ue3ujfkQs03C"
      }
    },
    {
      "cell_type": "markdown",
      "source": [
        ""
      ],
      "metadata": {
        "id": "kYRQDhufxSoS"
      }
    },
    {
      "cell_type": "markdown",
      "source": [
        ""
      ],
      "metadata": {
        "id": "qHItwSvXxSxh"
      }
    },
    {
      "cell_type": "code",
      "source": [
        "#ANALYZING A PORTFOLIO\n",
        "import yfinance as yf\n",
        "import numpy as np\n",
        "stocks= ['AAPL', 'AMZN', 'MSFT', 'TSLA',]\n",
        "weights= [0.3, 0.2, 0.4, 0.1]\n",
        "data= yf.download(stocks, start='2021-01-01')\n",
        "\n",
        "#DAILY RETURN\n",
        "x= data['Close'].pct_change()\n",
        "\n",
        "#PORTFOLIO RETURN\n",
        "ret= (x*weights).sum(axis= 1)\n",
        "\n",
        "#TOTAL CUMMULATIVE RETURN OF OUR PORTFOLIO\n",
        "cumulative= (ret+1).cumprod()\n",
        "cumulative.plot()\n"
      ],
      "metadata": {
        "colab": {
          "base_uri": "https://localhost:8080/",
          "height": 312
        },
        "id": "cuq43Li5xS-w",
        "outputId": "89fe2547-fe6e-44f8-99d0-7b871573e332"
      },
      "execution_count": 35,
      "outputs": [
        {
          "output_type": "stream",
          "name": "stdout",
          "text": [
            "[*********************100%***********************]  4 of 4 completed\n"
          ]
        },
        {
          "output_type": "execute_result",
          "data": {
            "text/plain": [
              "<matplotlib.axes._subplots.AxesSubplot at 0x7fc488add450>"
            ]
          },
          "metadata": {},
          "execution_count": 35
        },
        {
          "output_type": "display_data",
          "data": {
            "image/png": "[encoded data removed]",
            "text/plain": [
              "<Figure size 432x288 with 1 Axes>"
            ]
          },
          "metadata": {
            "needs_background": "light"
          }
        }
      ]
    },
    {
      "cell_type": "markdown",
      "source": [
        ""
      ],
      "metadata": {
        "id": "1-ObMnqp0Mfk"
      }
    },
    {
      "cell_type": "code",
      "source": [
        "#ANALYZING PORTFOLIO\n",
        "import yfinance as yf\n",
        "import numpy as np"
      ],
      "metadata": {
        "id": "5bDxNlG21RGc"
      },
      "execution_count": null,
      "outputs": []
    },
    {
      "cell_type": "code",
      "source": [
        "stocks= ['AAPL', 'AMZN', 'MSFT', 'TSLA',]\n",
        "weights= [0.3, 0.2, 0.4, 0.1]\n",
        "data= yf.download(stocks, start='2021-01-01')\n",
        "\n",
        "#DAILY RETURN\n",
        "x= data['Close'].pct_change()\n",
        "\n",
        "#PORTFOLIO RETURN\n",
        "ret= (x*weights).sum(axis= 1)\n",
        "\n",
        "#MEASURE VOLATALITY BY STD DEVIATION\n",
        "print(np.std(ret))\n",
        "annual_std= np.std(ret)* np.sqrt(252)\n",
        "print(annual_std)                                 "
      ],
      "metadata": {
        "colab": {
          "base_uri": "https://localhost:8080/"
        },
        "id": "W9ROLK130Mre",
        "outputId": "d8043b70-419b-4727-b5a6-b444d4bd8d90"
      },
      "execution_count": 38,
      "outputs": [
        {
          "output_type": "stream",
          "name": "stdout",
          "text": [
            "[*********************100%***********************]  4 of 4 completed\n",
            "0.014179206435290276\n",
            "0.22508792409614836\n"
          ]
        }
      ]
    },
    {
      "cell_type": "markdown",
      "source": [
        ""
      ],
      "metadata": {
        "id": "3CYJrJDTAIwb"
      }
    },
    {
      "cell_type": "markdown",
      "source": [
        ""
      ],
      "metadata": {
        "id": "qsxmpiD62lKb"
      }
    },
    {
      "cell_type": "code",
      "source": [
        "#USING SHARPE RATIO TO MEASURE RISK-ADJUSTED RETURNS\n",
        "sharpe=(np.mean(ret)/ np.std(ret))*np.sqrt(252)\n",
        "print(sharpe)"
      ],
      "metadata": {
        "colab": {
          "base_uri": "https://localhost:8080/"
        },
        "id": "9msEBttj2lXc",
        "outputId": "7e3f8659-c8bf-486d-a2b8-f9278f42faef"
      },
      "execution_count": 40,
      "outputs": [
        {
          "output_type": "stream",
          "name": "stdout",
          "text": [
            "1.1442947494784288\n"
          ]
        }
      ]
    },
    {
      "cell_type": "markdown",
      "source": [
        ""
      ],
      "metadata": {
        "id": "UtbCcFKl3V8M"
      }
    },
    {
      "cell_type": "code",
      "source": [
        "#LOOPS\n",
        "prices=[3, 5, 2, 8]\n",
        "prod= 1\n",
        "for p in prices:\n",
        "  prod= prod*p\n",
        "  print(prod)"
      ],
      "metadata": {
        "colab": {
          "base_uri": "https://localhost:8080/"
        },
        "id": "GMNvUcYy3WLV",
        "outputId": "ffdfa72d-a784-451b-ad9e-8941747936c6"
      },
      "execution_count": 42,
      "outputs": [
        {
          "output_type": "stream",
          "name": "stdout",
          "text": [
            "3\n",
            "15\n",
            "30\n",
            "240\n"
          ]
        }
      ]
    },
    {
      "cell_type": "markdown",
      "source": [
        ""
      ],
      "metadata": {
        "id": "pT_VVl3c6F9l"
      }
    },
    {
      "cell_type": "code",
      "source": [
        "for i in range(0,5):\n",
        "  print(\"sai_senpai\")"
      ],
      "metadata": {
        "colab": {
          "base_uri": "https://localhost:8080/"
        },
        "id": "SNIk43N26GMG",
        "outputId": "ec15656a-7e7d-4ede-eb05-015802bab285"
      },
      "execution_count": 54,
      "outputs": [
        {
          "output_type": "stream",
          "name": "stdout",
          "text": [
            "sai_senpai\n",
            "sai_senpai\n",
            "sai_senpai\n",
            "sai_senpai\n",
            "sai_senpai\n"
          ]
        }
      ]
    },
    {
      "cell_type": "markdown",
      "source": [
        ""
      ],
      "metadata": {
        "id": "oA-PAvdF6pWo"
      }
    },
    {
      "cell_type": "markdown",
      "source": [
        ""
      ],
      "metadata": {
        "id": "opjyDOBT7IDw"
      }
    },
    {
      "cell_type": "code",
      "source": [
        ""
      ],
      "metadata": {
        "id": "PKoJB68y7ISy"
      },
      "execution_count": null,
      "outputs": []
    },
    {
      "cell_type": "code",
      "source": [
        "sum=0\n",
        "for x in range(3,6):\n",
        "  sum=sum+x\n",
        "  print(sum)"
      ],
      "metadata": {
        "colab": {
          "base_uri": "https://localhost:8080/"
        },
        "id": "5oh8kN5S6qBX",
        "outputId": "841b98a7-10e0-4662-9b9c-255d97ebd378"
      },
      "execution_count": 47,
      "outputs": [
        {
          "output_type": "stream",
          "name": "stdout",
          "text": [
            "3\n",
            "7\n",
            "12\n"
          ]
        }
      ]
    },
    {
      "cell_type": "markdown",
      "source": [
        ""
      ],
      "metadata": {
        "id": "3qS1XApX7JuU"
      }
    },
    {
      "cell_type": "code",
      "source": [
        "#PORTFOLIO OPTAMIZATION\n",
        "#To get started, let's define the initial stocks, download their price data, and calculate the daily returns.\n",
        "\n",
        "\n",
        "stocks= ['AAPL', 'AMZN', 'MSFT', 'TSLA',]\n",
        "data= yf.download(stocks, start='2021-01-01')\n",
        "\n",
        "#daily returns\n",
        "data= data['Close']\n",
        "x= data.pct_change\n",
        "wts= np.random.uniform(size= len(x.coloumns))\n",
        "wts= wts/np.sum(wts)"
      ],
      "metadata": {
        "colab": {
          "base_uri": "https://localhost:8080/",
          "height": 235
        },
        "id": "0t8W7n-l7KSD",
        "outputId": "06067be8-212b-47e6-d822-0368084b13e7"
      },
      "execution_count": 55,
      "outputs": [
        {
          "output_type": "stream",
          "name": "stdout",
          "text": [
            "[*********************100%***********************]  4 of 4 completed\n"
          ]
        },
        {
          "output_type": "error",
          "ename": "AttributeError",
          "evalue": "ignored",
          "traceback": [
            "\u001b[0;31m---------------------------------------------------------------------------\u001b[0m",
            "\u001b[0;31mAttributeError\u001b[0m                            Traceback (most recent call last)",
            "\u001b[0;32m<ipython-input-55-f55a3cec36db>\u001b[0m in \u001b[0;36m<module>\u001b[0;34m()\u001b[0m\n\u001b[1;32m      9\u001b[0m \u001b[0mdata\u001b[0m\u001b[0;34m=\u001b[0m \u001b[0mdata\u001b[0m\u001b[0;34m[\u001b[0m\u001b[0;34m'Close'\u001b[0m\u001b[0;34m]\u001b[0m\u001b[0;34m\u001b[0m\u001b[0;34m\u001b[0m\u001b[0m\n\u001b[1;32m     10\u001b[0m \u001b[0mx\u001b[0m\u001b[0;34m=\u001b[0m \u001b[0mdata\u001b[0m\u001b[0;34m.\u001b[0m\u001b[0mpct_change\u001b[0m\u001b[0;34m\u001b[0m\u001b[0;34m\u001b[0m\u001b[0m\n\u001b[0;32m---> 11\u001b[0;31m \u001b[0mwts\u001b[0m\u001b[0;34m=\u001b[0m \u001b[0mnp\u001b[0m\u001b[0;34m.\u001b[0m\u001b[0mrandom\u001b[0m\u001b[0;34m.\u001b[0m\u001b[0muniform\u001b[0m\u001b[0;34m(\u001b[0m\u001b[0msize\u001b[0m\u001b[0;34m=\u001b[0m \u001b[0mlen\u001b[0m\u001b[0;34m(\u001b[0m\u001b[0mx\u001b[0m\u001b[0;34m.\u001b[0m\u001b[0mcoloumns\u001b[0m\u001b[0;34m)\u001b[0m\u001b[0;34m)\u001b[0m\u001b[0;34m\u001b[0m\u001b[0;34m\u001b[0m\u001b[0m\n\u001b[0m\u001b[1;32m     12\u001b[0m \u001b[0mwts\u001b[0m\u001b[0;34m=\u001b[0m \u001b[0mwts\u001b[0m\u001b[0;34m/\u001b[0m\u001b[0mnp\u001b[0m\u001b[0;34m.\u001b[0m\u001b[0msum\u001b[0m\u001b[0;34m(\u001b[0m\u001b[0mwts\u001b[0m\u001b[0;34m)\u001b[0m\u001b[0;34m\u001b[0m\u001b[0;34m\u001b[0m\u001b[0m\n",
            "\u001b[0;31mAttributeError\u001b[0m: 'function' object has no attribute 'coloumns'"
          ]
        }
      ]
    }
  ]
}